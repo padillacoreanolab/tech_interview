{
 "cells": [
  {
   "cell_type": "markdown",
   "metadata": {},
   "source": [
    "## Interview Questions"
   ]
  },
  {
   "cell_type": "markdown",
   "metadata": {},
   "source": [
    "## Overview of this workbook:\n",
    "\n",
    "We want to count cells across multiple subjects, conditions, brain regions, and experimental conditions. \n",
    "\n",
    "### Experimental Overview\n",
    "You have an excel sheet with information about brain region cell counts. We want to compare the number of active cells across two conditions. Each sheet in the excel sheet represents and is labeled by condition:\n",
    "-   condition1\n",
    "-   condition2\n",
    "\n",
    "We have counted cells in 3 brain regions in three areas: anterior, medial, and posterior (you can think of them as front, middle, and back of each region)\n",
    "-   region1\n",
    "-   region2\n",
    "-   region3\n",
    "\n",
    "We have also counted cells in these three regions that talk to two other regions:\n",
    "-   regionA\n",
    "-   regionB \n",
    "\n",
    "We have injected some pretty colors to label projections (red and green) - this means if I inject red into regionA and I see red in region1, I know region1 talks to regionA through neurons that start in region1 and travel to regionA. \n",
    "\n",
    "We have also marked and counted which cells were active. \n",
    "\n",
    "We also have individual subjects with IDs such as: \n",
    "-   1_1\n",
    "-   2_1\n",
    "-   2_2\n",
    "-   2_3\n",
    "-   6_1\n",
    "and so on\n",
    "\n",
    "### Overview of the excel sheet \n",
    "You have two columns on each sheet in the excel: \n",
    "-   slice\n",
    "-   count\n",
    "\n",
    "how to read slice names: area_region_SubjectID_active_colors\n",
    "\n",
    "### Example slice names\n",
    "\n",
    "**posterior_region3_1_anterior_regionion1_1_1_active**: this means the count in this row represents the number of cells in a posterior (back) slice of brain region1 from Subject 1_1 of active cells ONLY (that are not green or red, just active) \n",
    "\n",
    "**posterior_region3_1_anterior_regionion1_1_1_active_green**: this means all of the same stuff except this count is for active cells that are also green \n",
    "\n",
    "**posterior_region3_1_anterior_regionion1_1_1_green**: similarly this means this count is for cells that are only green and NOT active. \n",
    "\n",
    "### GOAL\n",
    "\n",
    "We want to count cells across all subjects and conditions that are active or that talk to regionA (including those that talk to regionB) or regionB (including those talk to regionA). \n",
    "Additionally, the experimenter injected green into regionA *most of the time* but not all of the time. So in order to know which brain regions are talking to which we need to map subjects to their injection color pairs.\n",
    "\n",
    "So with this in mind we need to \n",
    "1. map subjects to brain regions by color\n",
    "2. reformat the data\n",
    "3. calculate new totals\n",
    "4. confirm our totals are correct \n",
    "\n"
   ]
  },
  {
   "cell_type": "code",
   "execution_count": null,
   "metadata": {},
   "outputs": [],
   "source": [
    "import pandas as pd\n",
    "\n",
    "# Please debug this cell to find the data file you are looking for and load it in using pandas. \n",
    "# Reminder that there are two sheets in the excel file: one for condition1 and one for condition2\n",
    "\n",
    "file_path = \"\\cell_counts_full.xlsx\"\n",
    "\n",
    "# Load both sheets into separate DataFrames\n",
    "sheet = pd.read_excel(file_path)\n",
    "\n",
    "\n",
    "# Define columbs\n",
    "sheet1.columns = [\"Slice\", \"Count\"]\n",
    "sheet2.columns = [\"Slice\", \"Count\"]\n"
   ]
  },
  {
   "cell_type": "markdown",
   "metadata": {},
   "source": [
    "## Humans in action\n",
    "As all this data is collected and created by human's efforts - it's not always pretty. Our lovely experimenter injected green into regionA *most of the time* but not all of the time. So in order to know which brain regions are talking to which we need to map subjects to their injection color pairs "
   ]
  },
  {
   "cell_type": "code",
   "execution_count": null,
   "metadata": {},
   "outputs": [],
   "source": [
    "# Define subject-specific mappings for color to brain region in condition 1\n",
    "subject_mappings_condition1 = {\n",
    "    '2_1': {'green': 'regionB', 'red': 'regionA'},\n",
    "    '2_2': {'green': 'regionB', 'red': 'regionA'},\n",
    "    '2_3': {'green': 'regionB', 'red': 'regionA'},\n",
    "    '1_2': {'green': 'regionA', 'red': 'regionB'},\n",
    "    '1_3': {'green': 'regionA', 'red': 'regionB'}\n",
    "}\n",
    "\n",
    "# Define the default mapping for condition2\n",
    "default_mapping_condition2 = {'green': 'regionA', 'red': 'regionB'}\n",
    "\n"
   ]
  },
  {
   "cell_type": "markdown",
   "metadata": {},
   "source": [
    "Now lets use the above mapping to map them to the slice names in our excel sheet"
   ]
  },
  {
   "cell_type": "code",
   "execution_count": null,
   "metadata": {},
   "outputs": [],
   "source": [
    "# FUNCTIONS TO EXTRACT RELEVENT INFORMATION FROM SLICE NAME\n",
    "\n",
    "# Function to extract color from Slice name\n",
    "def extract_color(slice_value):\n",
    "    if 'green' in slice_value:\n",
    "        return 'green'\n",
    "    elif 'red' in slice_value:\n",
    "        return 'red'\n",
    "    elif 'active' in slice_value:\n",
    "        return 'active'\n",
    "    return 'Unknown'\n",
    "\n",
    "# Function to extract the subject number from the Slice column\n",
    "# There is a bug in this function please look closely \n",
    "def extract_subject(slice_value):\n",
    "    parts = slice_value.split('_')\n",
    "    if len(parts) >= 3:\n",
    "        return parts[2]  # \n",
    "    return 'Unknown'  # In case the slice format is unexpected\n",
    "\n",
    "def extract_region(slice_value):\n",
    "    parts = slice_value.split('_')\n",
    "    if len(parts) >= 4:\n",
    "        return parts[3]  # Assuming the region information is in the 4th position\n",
    "    return 'Unknown'\n",
    "\n",
    "\n",
    "# Function to extract the region information from the Slice column\n",
    "def extract_region(slice_value):\n",
    "    parts = slice_value.split('_')\n",
    "    if len(parts) >= 4:\n",
    "        return parts[3]  # Assuming the region information is in the 4th position\n",
    "    return 'Unknown'  # In case the slice format is unexpected\n"
   ]
  },
  {
   "cell_type": "code",
   "execution_count": 6,
   "metadata": {},
   "outputs": [],
   "source": [
    "# Functions to map and label what we know with what the excel sheet has\n",
    "\n",
    "#Map color to subject based on subject dictionary defined earlier\n",
    "# There is a bug in this function please look closely \n",
    "def map_color(slice_value, color_value, sheet_name):\n",
    "    parts = slice_value.split('_')\n",
    "    subject = parts[2]  # Extract subject id from the Slice column\n",
    "    if sheet_name == 'condition1' and subject in subject_mappings_condition1:\n",
    "        region_mapping = subject_mappings_condition1[subject]\n",
    "        return region_mapping.get(color_value, 'Unknown')\n",
    "    elif sheet_name == 'condition2':\n",
    "        return default_mapping_condition2.get(color_value, 'Unknown')\n",
    "    return 'Unknown'\n",
    "\n",
    "# Define overlaps based on the presence of markers in the Slice column\n",
    "def determine_overlap(slice_value):\n",
    "    markers = []\n",
    "    if 'active' in slice_value:\n",
    "        markers.append('active')\n",
    "    if 'green' in slice_value:\n",
    "        markers.append('green')\n",
    "    if 'red' in slice_value:\n",
    "        markers.append('red')\n",
    "    # Join markers to form the overlap label\n",
    "    return '_'.join(sorted(markers))\n",
    "\n",
    "# Function to extract markers from Slice and create projector label\n",
    "def create_projector(slice_value, subject, sheet_name):\n",
    "    markers = []\n",
    "    if 'active' in slice_value:\n",
    "        markers.append('active')\n",
    "    if 'green' in slice_value:\n",
    "        markers.append('green')\n",
    "    if 'red' in slice_value:\n",
    "        markers.append('red')\n",
    "    if sheet_name == 'condition1' and subject in subject_mappings_condition1:\n",
    "        region_mapping = subject_mappings_condition1[subject]\n",
    "    else:\n",
    "        region_mapping = default_mapping_condition2\n",
    "    combined_markers = []\n",
    "    for marker in markers:\n",
    "        if marker in ['green', 'red']:\n",
    "            region = region_mapping.get(marker, 'Unknown')\n",
    "            combined_markers.append(region)\n",
    "        else:\n",
    "            combined_markers.append(marker)\n",
    "    return '+'.join(combined_markers) + '+'"
   ]
  },
  {
   "cell_type": "code",
   "execution_count": null,
   "metadata": {},
   "outputs": [],
   "source": [
    "# Process the data for both sheets\n",
    "def process_data(df, sheet_name):\n",
    "    df['Slice'] = df['Slice'].astype(str)\n",
    "    df['Subject'] = df['Slice'].apply(extract_subject)  # Extract the subject number\n",
    "    df['Region'] = df['Slice'].apply(extract_region)    # Extract the region information\n",
    "    df['color'] = df['Slice'].apply(extract_color)\n",
    "    df['CellType'] = df.apply(lambda row: map_color(row['Slice'], row['color'], sheet_name), axis=1)  #if you do not know what a .apply(lamda x) fxn does lets figure that out \n",
    "    df['Overlap'] = df['Slice'].apply(determine_overlap)\n",
    "    df['Projector'] = df.apply(lambda row: create_projector(row['Slice'], row['Subject'], sheet_name), axis=1)\n",
    "    return df\n",
    "\n",
    "# Apply the updated function to both sheets\n",
    "sheet1_processed = process_data(sheet1, 'condition1')\n",
    "sheet2_processed = process_data(sheet2, 'condition2')\n",
    "\n",
    "# Print the processed data (or save to new Excel file, etc.)\n",
    "print(\"Processed data from condition1:\")\n",
    "print(sheet1_processed)\n",
    "\n",
    "print(\"Processed data from condition2:\")\n",
    "print(sheet2_processed)"
   ]
  },
  {
   "cell_type": "markdown",
   "metadata": {},
   "source": [
    "An example of how we started and where we ened up:"
   ]
  },
  {
   "cell_type": "code",
   "execution_count": null,
   "metadata": {},
   "outputs": [],
   "source": [
    "example_slice = 'anterior_region1_1_1_red_green_active.png'\n",
    "example_row = sheet1_processed[sheet1_processed['Slice'] == example_slice]\n",
    "if not example_row.empty:\n",
    "    example_projector = example_row['Projector'].values[0]\n",
    "    print(f\"Projector for {example_slice}: {example_projector}\")"
   ]
  },
  {
   "cell_type": "markdown",
   "metadata": {},
   "source": [
    "BIG BUG: \n",
    "\n",
    "For the condition1 the counts are off. Specifically for multiple projectors \n",
    "condition1 totals. The correct counts are as follows.\n",
    "   - regionA+ = 7224\n",
    "   - regionB+ = 6049\n",
    "   - regionB+regionA+ = 4670 \n",
    "   - active = 5308 \n",
    "   - active+regionA+ = 5080 \n",
    "   - active+regionB+ = 4641 \n",
    "   - active+regionA+regionB+ = 4166\n",
    "\n",
    "\n",
    "   How would you go about trying to figure out the issue? "
   ]
  },
  {
   "cell_type": "code",
   "execution_count": null,
   "metadata": {},
   "outputs": [],
   "source": [
    "projector_counts = pd.concat([sheet1_processed.groupby('Projector')['Count'].sum().reset_index().assign(sheet='condition1'),\n",
    "                             sheet2_processed.groupby('Projector')['Count'].sum().reset_index().assign(sheet='condition2')])\n",
    "\n",
    "print(\"Total counts for each projector by sheet:\")\n",
    "print(projector_counts)"
   ]
  },
  {
   "cell_type": "code",
   "execution_count": null,
   "metadata": {},
   "outputs": [],
   "source": []
  }
 ],
 "metadata": {
  "kernelspec": {
   "display_name": "play",
   "language": "python",
   "name": "python3"
  },
  "language_info": {
   "codemirror_mode": {
    "name": "ipython",
    "version": 3
   },
   "file_extension": ".py",
   "mimetype": "text/x-python",
   "name": "python",
   "nbconvert_exporter": "python",
   "pygments_lexer": "ipython3",
   "version": "3.11.4"
  }
 },
 "nbformat": 4,
 "nbformat_minor": 2
}
